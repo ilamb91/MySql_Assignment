{
 "cells": [
  {
   "cell_type": "markdown",
   "id": "caaea901-8b06-470e-a0ea-1cfd1682a37f",
   "metadata": {},
   "source": [
    "Q1. What is a database? Differentiate between SQL and NoSQL databases."
   ]
  },
  {
   "cell_type": "markdown",
   "id": "f7dfead2-dff4-44f3-b8b0-d7d250b95ffa",
   "metadata": {},
   "source": [
    "A1. A database is an organized collection of structured information, or data, typically stored electronically in a computer system. A database is usually controlled by a database management system (DBMS).For example, social media platforms use databases to store user information, such as names, email addresses and user behavior. The data is used to recommend content to users and improve the user experience.\n",
    "\n",
    "- SQL - SQL is a domain-specific language used to query and manage data. It works by allowing users to query, insert, delete, and update records in relational databases. SQL also allows for complex logic to be applied through the use of transactions and embedded procedures such as stored functions or views.\n",
    "\n",
    "- NoSQL - NoSQL stands for Not only SQL. It is a type of database that uses non-relational data structures, such as documents, graph databases, and key-value stores to store and retrieve data. NoSQL systems are designed to be more flexible than traditional relational databases and can scale up or down easily to accommodate changes in usage or load. This makes them ideal for use in applications\n",
    "\n",
    "Differentiate between SQL and NoSQL databases : -\n",
    "- SQL databases are relational, and NoSQL databases are non-relational.\n",
    "- SQL databases use structured query language (SQL) and have a predefined schema. NoSQL databases have dynamic schemas for unstructured data.\n",
    "- SQL databases are vertically scalable, while NoSQL databases are horizontally scalable.\n",
    "- SQL databases are table-based, while NoSQL databases are document, key-value, graph, or wide-column stores.\n",
    "- SQL databases are better for multi-row transactions, while NoSQL is better for unstructured data like documents or JSON."
   ]
  },
  {
   "cell_type": "markdown",
   "id": "286dc52e-7f45-4d8a-b2b1-2a62ffa045f0",
   "metadata": {},
   "source": [
    "Q2. What is DDL? Explain why CREATE, DROP, ALTER, and TRUNCATE are used with an example."
   ]
  },
  {
   "cell_type": "markdown",
   "id": "7403b2f6-08f4-4858-a9af-a0f71ffb9593",
   "metadata": {},
   "source": [
    "A2. DDL stands for Data Definition Language. \n",
    "These commands are used to change the structure of a database and database objects.For example, DDL commands can be used to add, remove, or modify tables with in a database.\n",
    "\n",
    "The DDL commands are: \n",
    "- CREATE\n",
    "- ALTER\n",
    "- DROP\n",
    "- TRUNCATE\n",
    "- RENAME\n",
    "\n",
    "1. CREATE : \n",
    "This command is used to create table in the relational database . \n",
    "This can be done by specifying the names and datatypes of various columns. \n",
    "\n",
    "Example:\n",
    "CREATE TABLE \n",
    "Employee\n",
    "(Student_id INT, \n",
    "Name VARCHAR(100), \n",
    "Marks INT); \n",
    "\n",
    "2. ALTER : \n",
    "Alter command is used for altering the table in many forms like: \n",
    "\n",
    "- Add a column\n",
    "- Rename existing column\n",
    "- Drop a column\n",
    "- Modify the size of the column or change datatype of the column\n",
    "\n",
    "3. TRUNCATE : \n",
    "This command removes all the records from a table. But this command will not destroy the table’s structure. \n",
    "\n",
    "4. DROP : \n",
    "This command completely removes the table from the database along with the destruction of the table structure. "
   ]
  },
  {
   "cell_type": "markdown",
   "id": "3f983a07-6a10-4079-8755-196b5208c222",
   "metadata": {},
   "source": [
    "Q3. What is DML? Explain INSERT, UPDATE, and DELETE with an example."
   ]
  },
  {
   "cell_type": "markdown",
   "id": "7aa8f7da-da9d-43ad-ad8b-c8fc998d3a57",
   "metadata": {},
   "source": [
    "A3. The Full Form of DML is Data Manipulation Language. Data Manipulation Language (DML) is a programming language, also a category of SQL, applying useful table format and formulas for exchanging information, with the data limited to a point in the database, using SQL.\n",
    "\n",
    "- INSERT : This command is used to enter the information or values into a row. We can connect one or more records to a single table within a repository using this instruction. This is often used to connect an unused tag to the documents.\n",
    "- Example : INSERT INTO <table_name> ('column_name1' <datatype>, 'column_name2' <datatype>)\n",
    "VALUES ('value1', 'value2'); \n",
    "    \n",
    "- UPDATE : This command is used to alter existing table records. Within a table, it modifies data from one or more records. This command is used to alter the data which is already present in a table.\n",
    "- Example : UPDATE students\n",
    "SET due_fees = 20000\n",
    "WHERE stu_name = 'Mini'; \n",
    "    \n",
    "- DELETE : It deletes all archives from a table. This command is used to erase some or all of the previous table’s records. If we do not specify the ‘WHERE’ condition then all the rows would be erased or deleted.\n",
    "- Example : DELETE FROM students\n",
    "WHERE stu_id = '001'; "
   ]
  },
  {
   "cell_type": "markdown",
   "id": "e6d603e5-e30e-4866-a279-83010293f1fb",
   "metadata": {},
   "source": [
    "Q4. What is DQL? Explain SELECT with an example."
   ]
  },
  {
   "cell_type": "markdown",
   "id": "4e1dae1f-8121-4c5e-b84f-ed9e84be97ef",
   "metadata": {},
   "source": [
    "A4. Query languages, often known as DQLs or Data Query Languages, are computer languages that are used to make various queries in information systems and databases. The Structured Query Language (SQL) is a well-known example. DQL statements are used to query the data contained in schema objects.\n",
    "\n",
    "- SELECT : The SELECT Statement in SQL is used to retrieve or fetch data from a database. \n",
    "\n",
    "We can fetch either the entire table or according to some specified rules. The data returned is stored in a result table. This result table is also called the result set. With the SELECT clause of a SELECT command statement, we specify the columns that we want to be displayed in the query result and, optionally, which column headings we prefer to see above the result table.\n",
    "\n",
    "The select clause is the first clause and is one of the last clauses of the select statement that the database server evaluates. The reason for this is that before we can determine what to include in the final result set, we need to know all of the possible columns that could be included in the final result set."
   ]
  },
  {
   "cell_type": "raw",
   "id": "d1ad83d4-fbc0-43d9-a809-72da72eab678",
   "metadata": {},
   "source": [
    "CREATE TABLE Customer(\n",
    "    CustomerID INT PRIMARY KEY,\n",
    "    CustomerName VARCHAR(50),\n",
    "    LastName VARCHAR(50),\n",
    "    Country VARCHAR(50),\n",
    "    Age int(2),\n",
    "  Phone int(10)\n",
    ");\n",
    "-- Insert some sample data into the Customers table\n",
    "INSERT INTO Customer (CustomerID, CustomerName, LastName, Country, Age, Phone)\n",
    "VALUES (1, 'Shubham', 'Thakur', 'India','23','xxxxxxxxxx'),\n",
    "       (2, 'Aman ', 'Chopra', 'Australia','21','xxxxxxxxxx'),\n",
    "       (3, 'Naveen', 'Tulasi', 'Sri lanka','24','xxxxxxxxxx'),\n",
    "       (4, 'Aditya', 'Arpan', 'Austria','21','xxxxxxxxxx'),\n",
    "       (5, 'Nishant. Salchichas S.A.', 'Jain', 'Spain','22','xxxxxxxxxx');"
   ]
  },
  {
   "cell_type": "markdown",
   "id": "e7a1a4bf-e5b4-4aea-98f1-f7e9455afbaa",
   "metadata": {},
   "source": [
    "Q5. Explain Primary Key and Foreign Key."
   ]
  },
  {
   "cell_type": "markdown",
   "id": "51589491-5a14-4a49-958b-0a0e265aca07",
   "metadata": {},
   "source": [
    "- A primary key is used to ensure that data in the specific column is unique. A column cannot have NULL values. It is either an existing table column or a column that is specifically generated by the database according to a defined sequence. \n",
    "- A foreign key is a column or group of columns in a relational database table that provides a link between data in two tables. It is a column (or columns) that references a column (most often the primary key) of another table. \n",
    "\n",
    "Primary Key- \n",
    "- A primary key is used to ensure data in the specific column is unique.\n",
    "- It uniquely identifies a record in the relational database table.\n",
    "- Only one primary key is allowed in a table.\n",
    "- It is a combination of UNIQUE and Not Null constraints.\n",
    "- It does not allow NULL values.\n",
    "- Its value cannot be deleted from the parent table.\n",
    "- It constraint can be implicitly defined on the temporary tables.\n",
    "\n",
    "Foreign Key-\n",
    "- A foreign key is a column or group of columns in a relational database table that provides a link between data in two tables.\n",
    "- It refers to the field in a table which is the primary key of another table.\n",
    "- Whereas more than one foreign key is allowed in a table.\n",
    "- It can contain duplicate values and a table in a relational database.\n",
    "- It can also contain NULL values.\n",
    "- Its value can be deleted from the child table.\n",
    "- It constraint cannot be defined on the local or global temporary tables."
   ]
  },
  {
   "cell_type": "markdown",
   "id": "96edae04-df62-4171-822a-fbbcabf8f937",
   "metadata": {},
   "source": [
    "Q6. Write a python code to connect MySQL to python. Explain the cursor() and execute() method."
   ]
  },
  {
   "cell_type": "markdown",
   "id": "a116b8b6-750c-4dd5-902d-5c34e03d6c66",
   "metadata": {},
   "source": [
    "A6. Step 1: Download and Install the free MySQL database.\n",
    "- Step 2: After installing the MySQL database, open your Command prompt.\n",
    "- Step 3: Navigate your Command prompt to the location of PIP.\n",
    "- Step 4: Now run the commands given below to download and install “MySQL Connector”. \n",
    "- Step 5: Test MySQL Connector\n",
    "- Step 6: Create Connection\n",
    "\n",
    "- Python Code\n",
    "import mysql.connector\n",
    "\n",
    "mydb = mysql.connector.connect(\n",
    "    host = \"localhost\",\n",
    "    user = \"yourusername\",\n",
    "    password = \"your_password\"\n",
    ")\n",
    "\n",
    "print(mydb)\n",
    "\n",
    "- cursor() - The MySQLCursor class instantiates objects that can execute operations such as SQL statements. Cursor objects interact with the MySQL server using a MySQLConnection object. To create a cursor, use the cursor() method of a connection object: import mysql. connector cnx = mysql. connector.\n",
    "\n",
    "- execute - Using the methods of it you can execute SQL statements, fetch data from the result sets, call procedures. You can create Cursor object using the cursor() method of the Connection object/class."
   ]
  },
  {
   "cell_type": "markdown",
   "id": "dcbb5466-57a4-47d1-8670-84dc4112f6bd",
   "metadata": {},
   "source": [
    "Q7. Give the order of execution of SQL clauses in an SQL query."
   ]
  },
  {
   "cell_type": "code",
   "execution_count": null,
   "id": "291f3e4f-ced2-4ca7-ad7d-5cfb7f118d96",
   "metadata": {},
   "outputs": [],
   "source": [
    "A7. "
   ]
  }
 ],
 "metadata": {
  "kernelspec": {
   "display_name": "Python 3 (ipykernel)",
   "language": "python",
   "name": "python3"
  },
  "language_info": {
   "codemirror_mode": {
    "name": "ipython",
    "version": 3
   },
   "file_extension": ".py",
   "mimetype": "text/x-python",
   "name": "python",
   "nbconvert_exporter": "python",
   "pygments_lexer": "ipython3",
   "version": "3.10.8"
  }
 },
 "nbformat": 4,
 "nbformat_minor": 5
}
